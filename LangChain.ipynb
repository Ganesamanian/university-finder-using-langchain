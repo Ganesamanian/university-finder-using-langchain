{
 "cells": [
  {
   "cell_type": "markdown",
   "id": "6feea9e4-7f62-43c4-bcc3-9c42ea799272",
   "metadata": {},
   "source": [
    "## Import Header"
   ]
  },
  {
   "cell_type": "code",
   "execution_count": 1,
   "id": "d85f8e07-1520-4af7-89f6-4d68f238f7b1",
   "metadata": {},
   "outputs": [],
   "source": [
    "import os\n",
    "import requests\n",
    "import google.generativeai as genai\n",
    "from langchain_google_genai import ChatGoogleGenerativeAI\n",
    "from langchain.prompts import PromptTemplate\n",
    "from langchain.chains import LLMChain, SequentialChain\n",
    "from langchain.agents import AgentType, initialize_agent, load_tools"
   ]
  },
  {
   "cell_type": "markdown",
   "id": "fc6945f0-649d-4ddb-948e-e7db64c12481",
   "metadata": {},
   "source": [
    "## Import API Key"
   ]
  },
  {
   "cell_type": "code",
   "execution_count": 2,
   "id": "a2a99d75-cb7c-41b5-a07d-265ae70f3ad9",
   "metadata": {},
   "outputs": [],
   "source": [
    "# openai.api_key = os.getenv(\"openai_api_key\")\n",
    "google_api_key  = os.getenv(\"google_api_key\")\n",
    "serp_api_key = os.getenv(\"serp_api_key\")"
   ]
  },
  {
   "cell_type": "code",
   "execution_count": 23,
   "id": "811eaa86-9df5-4ccd-8bc8-266c5d69d0b5",
   "metadata": {},
   "outputs": [
    {
     "name": "stdout",
     "output_type": "stream",
     "text": [
      "Canada, United Kingdom, Germany, Australia, United States, Switzerland, Sweden, Netherlands, Denmark, Finland, Japan, South Korea, Singapore\n",
      "\n"
     ]
    }
   ],
   "source": [
    "# Create an instance of the LLM, using the 'gemini-pro' model with a specified creativity level\n",
    "llm = ChatGoogleGenerativeAI(model='gemini-1.5-flash', temperature=0.9)\n",
    "\n",
    "# Send a creative prompt to the LLM\n",
    "response = llm.invoke('I want to open a Indian Restaraunt, Give me a fancy name just one ')\n",
    "print(response.content)"
   ]
  },
  {
   "cell_type": "code",
   "execution_count": 4,
   "id": "fb22e11f-ce44-4772-9e35-355c74d3d088",
   "metadata": {},
   "outputs": [
    {
     "data": {
      "text/plain": [
       "'Give me place to visit in cologne. Just the name give as a comma-separated list'"
      ]
     },
     "execution_count": 4,
     "metadata": {},
     "output_type": "execute_result"
    }
   ],
   "source": [
    "prompt_name = PromptTemplate(\n",
    "                                input_variables = ['city'],\n",
    "                                template = \"Give me place to visit in {city}. Just the name give as a comma-separated list\"\n",
    "    \n",
    ")\n",
    "\n",
    "prompt_name.format(city=\"cologne\")"
   ]
  },
  {
   "cell_type": "code",
   "execution_count": 5,
   "id": "04b929ac-af12-495c-b7dc-370eb859bc65",
   "metadata": {},
   "outputs": [
    {
     "name": "stderr",
     "output_type": "stream",
     "text": [
      "C:\\Users\\kgane\\AppData\\Local\\Temp\\ipykernel_4928\\4225656396.py:1: LangChainDeprecationWarning: The class `LLMChain` was deprecated in LangChain 0.1.17 and will be removed in 1.0. Use :meth:`~RunnableSequence, e.g., `prompt | llm`` instead.\n",
      "  name_chain = LLMChain(llm = llm, prompt = prompt_name, output_key= \"Places\")\n"
     ]
    },
    {
     "data": {
      "text/plain": [
       "{'city': 'cologne',\n",
       " 'Places': 'Cologne Cathedral, Hohenzollern Bridge, Roman-Germanic Museum, Chocolate Museum, Museum Ludwig, Botanical Garden, Cologne Zoo, Great St. Martin Church, El-De Haus,  Wallraf-Richartz Museum\\n'}"
      ]
     },
     "execution_count": 5,
     "metadata": {},
     "output_type": "execute_result"
    }
   ],
   "source": [
    "name_chain = LLMChain(llm = llm, prompt = prompt_name, output_key= \"Places\")\n",
    "name_chain.invoke(\"cologne\")"
   ]
  },
  {
   "cell_type": "code",
   "execution_count": 6,
   "id": "adcdb5c1-97f6-408e-b3e0-9674319005ee",
   "metadata": {},
   "outputs": [
    {
     "data": {
      "text/plain": [
       "{'restaraunt_name': 'italian',\n",
       " 'menu_items': '* **Antipasti:** Bruschetta, Caprese Salad, Arancini, Carpaccio\\n* **Pasta:** Spaghetti Carbonara, Fettuccine Alfredo, Lasagna,  Ravioli with Sage Brown Butter Sauce,  Pappardelle with Wild Boar Ragu\\n* **Pizza:** Margherita, Pepperoni, Quattro Formaggi, Diavola\\n* **Secondi (Main Courses):**  Saltimbocca, Osso Buco, Pollo alla Parmigiana,  Grilled Salmon with Lemon and Herbs,  Beef Braciole\\n* **Contorni (Side Dishes):** Roasted Vegetables,  Insalata Mista (Mixed Salad),  Spinach with Garlic,  Potato Gratin\\n* **Dolci (Desserts):** Tiramisu, Cannoli, Panna Cotta, Gelato, Biscotti\\n* **Beverages:**  Espresso, Cappuccino,  Chianti, Pinot Grigio,  Limoncello\\n\\n\\n'}"
      ]
     },
     "execution_count": 6,
     "metadata": {},
     "output_type": "execute_result"
    }
   ],
   "source": [
    "prompt_menu = PromptTemplate(input_variables= ['restaraunt_name'],\n",
    "                             template = \"Suggest some menu items for {restaraunt_name}. Return it as a list\")\n",
    "\n",
    "food_chain = LLMChain(llm = llm, prompt = prompt_menu, output_key=\"menu_items\")\n",
    "food_chain.invoke(\"italian\")"
   ]
  },
  {
   "cell_type": "code",
   "execution_count": 18,
   "id": "795d2828-25fb-410b-8f8d-e9271524290c",
   "metadata": {},
   "outputs": [
    {
     "name": "stdout",
     "output_type": "stream",
     "text": [
      "\n",
      "\n",
      "\u001b[1m> Entering new AgentExecutor chain...\u001b[0m\n",
      "\u001b[32;1m\u001b[1;3mThought: I need to find Donald Trump's date of birth to calculate his current age.  I can use Wikipedia for this.\n",
      "Action: wikipedia\n",
      "Action Input: Donald Trump\u001b[0m\n",
      "Observation: \u001b[36;1m\u001b[1;3mPage: Donald Trump\n",
      "Summary: Donald John Trump (born June 14, 1946) is an American politician, media personality, and businessman who served as the 45th president of the United States from 2017 to 2021. He won the 2024 presidential election as the nominee of the Republican Party and is scheduled to be inaugurated as the 47th president on January 20, 2025.\n",
      "Trump graduated with a bachelor's degree in economics from the University of Pennsylvania in 1968. After becoming president of the family real estate business in 1971, he renamed it the Trump Organization. After a series of bankruptcies in the 1990s, he launched side ventures, mostly by licensing the Trump name. From 2004 to 2015, he produced and hosted the reality television series The Apprentice. In 2015, Trump launched a presidential campaign that led to the Trumpism movement.\n",
      "Trump won the 2016 presidential election. His election and policies sparked numerous protests. In his first term, he ordered a travel ban targeting Muslims and refugees, funded the Trump wall expanding the U.S.–Mexico border wall, and implemented a family separation policy at that border. He rolled back more than 100 environmental policies and regulations, signed the Tax Cuts and Jobs Act of 2017, and appointed three justices to the Supreme Court. He initiated a trade war with China, withdrew the U.S. from several international agreements, and met with North Korean leader Kim Jong Un without progress on denuclearization. In response to the COVID-19 pandemic, Trump signed the CARES Act on March 27, 2020. He was impeached in 2019 for abuse of power and obstruction of Congress, and in 2021 for incitement of insurrection; the Senate acquitted him in both cases.\n",
      "Trump's politics and rhetoric led to the creation of Trumpism. Many of his comments and actions have been characterized as racially charged, racist, and misogynistic. He promoted conspiracy theories and made many false and misleading statements during his campaigns and presidency, to a degree unprecedented in American politics. After his first term, scholars and historians ranked him as one of the worst presidents in American history. He lost the 2020 presidential election, but did not concede, falsely claiming widespread electoral fraud and attempting to overturn the results, including his involvement in the January 6 Capitol attack. In 2024, he was found guilty of falsifying business records, making him the first U.S. president to be convicted of a felony. He faced more felony indictments related to his interference in the 2020 election and his handling of classified documents, which were dismissed following his reelection in 2024.\n",
      "\n",
      "Page: Donald Trump Jr.\n",
      "Summary: Donald John Trump Jr. (born December 31, 1977), often nicknamed Don Jr., is an American businessman. He is the eldest child of U.S. president-elect Donald Trump and his first wife Ivana Trump.\n",
      "Trump serves as a trustee and executive vice president of the Trump Organization, running the company alongside his younger brother Eric. During their father's first presidency, the brothers continued to do deals and investments in foreign countries, as well as collect payments in their U.S. properties from foreign governments, despite a pledge that they would not do so. He served as a boardroom judge on the reality TV show featuring his father, The Apprentice. He authored Triggered in 2019 and Liberal Privilege in 2020.\n",
      "Trump was active in his father's 2016 presidential campaign and played a role the campaign's success. Trump campaigned for several Republicans during the 2018 midterm elections. He has promoted several conspiracy theories.\n",
      "Trump was also active in his father's 2020 presidential campaign, often being on the campaign trail and being featured in the news for making unfounded claims. During the election he called for \"total war\" as the results were counted and promoted the stolen election conspiracy theory. Following his father's defeat, he engaged in attempts to overturn the results.\u001b[0m\n",
      "Thought:\u001b[32;1m\u001b[1;3mThought: I found Donald Trump's birthdate on Wikipedia. Now I need to calculate his age.\n",
      "Action: Calculator\n",
      "Action Input: 2024 - 1946\u001b[0m\n",
      "Observation: \u001b[33;1m\u001b[1;3mAnswer: 78\u001b[0m\n",
      "Thought:\u001b[32;1m\u001b[1;3mThought: I now know the final answer.\n",
      "Final Answer: Donald Trump is 78 years old in 2024.\n",
      "\u001b[0m\n",
      "\n",
      "\u001b[1m> Finished chain.\u001b[0m\n"
     ]
    },
    {
     "data": {
      "text/plain": [
       "'Donald Trump is 78 years old in 2024.'"
      ]
     },
     "execution_count": 18,
     "metadata": {},
     "output_type": "execute_result"
    }
   ],
   "source": [
    "os.environ['SERPAPI_API_KEY'] = serp_api_key\n",
    "tools = load_tools([\"wikipedia\", \"llm-math\", \"serpapi\"], llm=llm)\n",
    "agent = initialize_agent(tools,\n",
    "                llm,\n",
    "                agent = AgentType.ZERO_SHOT_REACT_DESCRIPTION,\n",
    "                verbose= True\n",
    "                 )\n",
    "\n",
    "agent.run(\"what is Donald Trump age today?\")"
   ]
  },
  {
   "cell_type": "code",
   "execution_count": 21,
   "id": "a00ffb5f-e9eb-460f-8dca-16695537d323",
   "metadata": {},
   "outputs": [
    {
     "name": "stdout",
     "output_type": "stream",
     "text": [
      "\n",
      "\n",
      "\u001b[1m> Entering new AgentExecutor chain...\u001b[0m\n",
      "\u001b[32;1m\u001b[1;3mThought: I need to find a list of top Indian restaurants in Cologne, Germany.  A search engine is the best tool for this.\n",
      "Action: Search\n",
      "Action Input: \"top 5 indian restaurants cologne germany\"\u001b[0m\n",
      "Observation: \u001b[38;5;200m\u001b[1;3mIndian Restaurants in Cologne\u001b[0m\n",
      "Thought:\u001b[32;1m\u001b[1;3mThought: I need to find a list of top Indian restaurants in Cologne, Germany.  A search engine is the best tool for this.  The search results will likely provide a list, but I need to carefully select the top 5 based on reviews and ratings.\n",
      "Action: Search\n",
      "Action Input: \"top 5 indian restaurants cologne germany\"\u001b[0m\n",
      "Observation: \u001b[38;5;200m\u001b[1;3mIndian Restaurants in Cologne\u001b[0m\n",
      "Thought:\u001b[32;1m\u001b[1;3mThought: I need to find a list of top Indian restaurants in Cologne, Germany. A search engine is the best tool for this.  The search results will likely provide a list, but I need to carefully select the top 5 based on reviews and ratings.  I will need to look at multiple sources to get a more reliable ranking.\n",
      "Action: Search\n",
      "Action Input: \"best Indian restaurants Cologne Germany\"\u001b[0m\n",
      "Observation: \u001b[38;5;200m\u001b[1;3mIndian Restaurants in Cologne\u001b[0m\n",
      "Thought:\u001b[32;1m\u001b[1;3mThought: I need to find a list of top Indian restaurants in Cologne, Germany. A search engine is the best tool for this.  The search results will likely provide a list, but I need to carefully select the top 5 based on reviews and ratings.  I will need to look at multiple sources to get a more reliable ranking.  I cannot definitively rank them without access to real-time review data. I will provide a list of highly-rated restaurants based on search results.\n",
      "Action: Search\n",
      "Action Input: \"best Indian restaurants Cologne Germany\"\u001b[0m\n",
      "Observation: \u001b[38;5;200m\u001b[1;3mIndian Restaurants in Cologne\u001b[0m\n",
      "Thought:\u001b[32;1m\u001b[1;3mThought: I need to find a list of top Indian restaurants in Cologne, Germany. A search engine is the best tool for this.  The search results will likely provide a list, but I need to carefully select the top 5 based on reviews and ratings.  I will need to look at multiple sources to get a more reliable ranking.  I cannot definitively rank them without access to real-time review data. I will provide a list of highly-rated restaurants based on search results.  I will use Google search results as a proxy for popularity and ratings.\n",
      "\n",
      "\n",
      "Action: Search\n",
      "Action Input: \"best Indian restaurants Cologne Germany Google reviews\"\u001b[0m\n",
      "Observation: \u001b[38;5;200m\u001b[1;3m[\"1. Kamasutra Indisches Restaurant · 516 · 'Super delicious food with wonderful hospitality'. Our thanks to Mr. Rajiv... ; 2. Ginti Indisches ...\", \"Simply one of the best Indian restaurant I've ever been ! The restaurant is really cute, the staff was perfect and friendly. And the food was just excellent !\", 'Top 10 Best Indian Near Cologne, Nordrhein-Westfalen - With Real Reviews · 1. Lakshmi · 2. Namaste · 3. Ginti · 4. Little India · 5. Rangoli · 6. Indian Curry Basmati ...', 'The Best 10 Indian Restaurants near Rathenaupl. 34, 50674 Cologne, Germany · 1. Ginti · 2. Lakshmi · 3. Little India · 4. Tandoori · 5. Tasty India · 6. Indian ...', 'Little India is a fantastically authentic Indian restaurant that offers some of the best cuisine in Cologne. The prices are reasonable, and the service is ...', \"We like the indian food from Bobby's Bistro on Behringstraße. It's simple but in my opinion one of the best in Dresden.\", 'Restaurant Kamasutra is regularly ranked by the most well known restaurant guides like Prinz, Tag Nacht, Gote or Römer´s as the best Indian restaurant in ...', 'Find the best and most fabulous restaurants in Cologne. Explore 615 top-rated options, read reviews, view photos, and book your table with OpenTable today.', 'Rajdarbaar Tandoori on Bahnstraße a really good and almost unknown. It has a small bit great brunch buffet on Sundays too.', 'Ginti & More Urban Food Club is a favorite place for TheFork users. This 8.3 rated restaurant is located in Cologne, and would be an excellent choice for your ...', [{'position': 1, 'rating': 4.9, 'reviews_original': '(1.6K)', 'reviews': 1600, 'price': '€20–30', 'description': '\"Excellent service, fantastic food, great ambiance!\"', 'lsig': 'AB86z5WtBN7LksKf7Els7uxwgi_3', 'thumbnail': 'https://serpapi.com/searches/6747b79cba13f2454f8714e6/images/b8c508da1405ec80be0026f26f6dafe7f46760004ee1c81c0b2e16fb2b04a6703182df264cc19a64.jpeg', 'title': 'Holi - Indian Restaurant & Cocktail Bar', 'type': 'Modern Indian restaurant', 'address': 'Olpener Str. 864B', 'hours': 'Closed ⋅ Opens 12 PM', 'place_id': '10526615740570217628', 'place_id_search': 'https://serpapi.com/search.json?device=desktop&engine=google&gl=us&google_domain=google.com&hl=en&ludocid=10526615740570217628&q=best+Indian+restaurants+Cologne+Germany+Google+reviews', 'gps_coordinates': {'latitude': 50.94564, 'longitude': 7.073745}}, {'position': 2, 'rating': 4.7, 'reviews_original': '(1.7K)', 'reviews': 1700, 'price': '€10–20', 'description': '\"The food is awesome, service is exceptional and the atmosphere is amazing.\"', 'lsig': 'AB86z5VJ53yCNBBYEs80NrTnTOXU', 'thumbnail': 'https://serpapi.com/searches/6747b79cba13f2454f8714e6/images/b8c508da1405ec80be0026f26f6dafe725c530dc4083bcffb5e68557414a160089ee80d8bac7a772.jpeg', 'title': 'Ganesha Indisches Restaurant in Köln seit 1987', 'type': 'Indian', 'address': 'Händelstraße 26', 'hours': 'Closed ⋅ Opens 12 PM', 'place_id': '13003263784349942695', 'place_id_search': 'https://serpapi.com/search.json?device=desktop&engine=google&gl=us&google_domain=google.com&hl=en&ludocid=13003263784349942695&q=best+Indian+restaurants+Cologne+Germany+Google+reviews', 'gps_coordinates': {'latitude': 50.93507, 'longitude': 6.9368696}}, {'position': 3, 'rating': 4.8, 'reviews_original': '(587)', 'reviews': 587, 'price': '€20–30', 'description': '\"The food was terrific and the quality of the food was out of this world.\"', 'lsig': 'AB86z5UtaGZwHVAeDdidlBxb_83e', 'thumbnail': 'https://serpapi.com/searches/6747b79cba13f2454f8714e6/images/b8c508da1405ec80be0026f26f6dafe767dcd6f0ad12035e8c72657581ed8e0221f8765444cd748d.jpeg', 'title': 'BHASIN (Kalk) | Indian cuisine since 1986', 'type': 'Indian', 'address': 'Thumbstraße 1', 'hours': 'Closed ⋅ Opens 12 PM', 'place_id': '5700820778424956458', 'place_id_search': 'https://serpapi.com/search.json?device=desktop&engine=google&gl=us&google_domain=google.com&hl=en&ludocid=5700820778424956458&q=best+Indian+restaurants+Cologne+Germany+Google+reviews', 'gps_coordinates': {'latitude': 50.940605, 'longitude': 7.00684}}]]\u001b[0m\n",
      "Thought:\u001b[32;1m\u001b[1;3mThought:I have a list of highly-rated Indian restaurants in Cologne from Google reviews.  I'll extract the top 5 based on the provided data.  Note that this ranking is based on a snapshot of Google reviews and might change.\n",
      "\n",
      "Thought:I now know the final answer.\n",
      "\n",
      "Final Answer: Based on Google reviews, here are five highly-rated Indian restaurants in Cologne (in no particular order as definitive ranking is impossible without access to a comprehensive and constantly updated review database):\n",
      "\n",
      "1. Holi - Indian Restaurant & Cocktail Bar\n",
      "2. Ganesha Indisches Restaurant in Köln seit 1987\n",
      "3. BHASIN (Kalk) | Indian cuisine since 1986\n",
      "4. Ginti Indisches Restaurant (frequently mentioned in top lists)\n",
      "5. Lakshmi (frequently mentioned in top lists)\n",
      "\n",
      "\n",
      "Please note that this list is subject to change based on the latest reviews and ratings.  I recommend checking online review platforms like Google Maps, TripAdvisor, or Yelp for the most current information before making your decision.\n",
      "\u001b[0m\n",
      "\n",
      "\u001b[1m> Finished chain.\u001b[0m\n"
     ]
    },
    {
     "data": {
      "text/plain": [
       "'Based on Google reviews, here are five highly-rated Indian restaurants in Cologne (in no particular order as definitive ranking is impossible without access to a comprehensive and constantly updated review database):\\n\\n1. Holi - Indian Restaurant & Cocktail Bar\\n2. Ganesha Indisches Restaurant in Köln seit 1987\\n3. BHASIN (Kalk) | Indian cuisine since 1986\\n4. Ginti Indisches Restaurant (frequently mentioned in top lists)\\n5. Lakshmi (frequently mentioned in top lists)\\n\\n\\nPlease note that this list is subject to change based on the latest reviews and ratings.  I recommend checking online review platforms like Google Maps, TripAdvisor, or Yelp for the most current information before making your decision.'"
      ]
     },
     "execution_count": 21,
     "metadata": {},
     "output_type": "execute_result"
    }
   ],
   "source": [
    "agent.run(\"Give me top 5 indian restaraunts in Cologne, Germany\")"
   ]
  },
  {
   "cell_type": "code",
   "execution_count": 22,
   "id": "c14a939b-5a92-4ab6-9f10-84c92ac34975",
   "metadata": {},
   "outputs": [
    {
     "name": "stdout",
     "output_type": "stream",
     "text": [
      "\n",
      "\n",
      "\u001b[1m> Entering new AgentExecutor chain...\u001b[0m\n",
      "\u001b[32;1m\u001b[1;3mThought: I need to find information about the history of Cologne. Wikipedia is a good resource for this.\n",
      "Action: wikipedia\n",
      "Action Input: Cologne\u001b[0m\n",
      "Observation: \u001b[36;1m\u001b[1;3mPage: Cologne\n",
      "Summary: Cologne (  kə-LOHN; German: Köln [kœln] ; Kölsch: Kölle [ˈkœlə] ) is the largest city of the German state of North Rhine-Westphalia and the fourth-most populous city of Germany with nearly 1.1 million inhabitants in the city proper and over 3.1 million people in the Cologne Bonn urban region. Cologne is also part of the Rhine-Ruhr metropolitan region, the second biggest metropolitan region by GDP in the European Union. Centered on the left (west) bank of the Rhine, Cologne is located on the River Rhine (Lower Rhine), about 35 km (22 mi) southeast of the North Rhine-Westphalia state capital Düsseldorf and 25 km (16 mi) northwest of Bonn, the former capital of West Germany.\n",
      "The city's medieval Cologne Cathedral (Kölner Dom) was the world's tallest building 1880–1890 and is today the third-tallest church and tallest cathedral in the world. It was constructed to house the Shrine of the Three Kings and is a globally recognized landmark and one of the most visited sights and pilgrimage destinations in Europe. The cityscape is further shaped by the Twelve Romanesque churches of Cologne. Cologne is famous for Eau de Cologne, which has been produced in the city since 1709; \"cologne\" has since come to be a generic term.\n",
      "Cologne was founded and established in Germanic Ubii territory in the 1st century CE as the Roman Colonia Agrippina, hence its name. Agrippina was later dropped (except in Latin), and Colonia became the name of the city in its own right, which developed into modern German as Köln. Cologne, the French version of the city's name, has become standard in English as well. Cologne functioned as the capital of the Roman province of Germania Inferior and as the headquarters of the Roman military in the region until occupied by the Franks in 462. During the Middle Ages the city flourished as being located on one of the most important major trade routes between east and western Europe (including the Brabant Road, Via Regia and Publica). Cologne was a free imperial city of the Holy Roman Empire and one of the major members of the trade union Hanseatic League. It was one of the largest European cities in medieval and renaissance times.\n",
      "Prior to World War II, the city had undergone occupations by the French (1794–1815) and the British (1918–1926), and was part of Prussia beginning in 1815. Cologne was one of the most heavily bombed cities in Germany during World War II. The bombing reduced the population by 93% mainly due to evacuation, and destroyed around 80% of the millennia-old city center. The post-war rebuilding has resulted in a mixed cityscape, restoring most major historic landmarks like city gates and churches (31 of them being Romanesque). The city nowadays consists of around 25% pre World War II buildings and boasts around 9,000 historic buildings.\n",
      "Cologne is a major cultural center for the Rhineland; it hosts more than 30 museums and hundreds of galleries. There are many institutions of higher education, most notably the University of Cologne, one of Europe's oldest and largest universities; the Technical University of Cologne, Germany's largest university of applied sciences; and the German Sport University Cologne. It hosts three Max Planck science institutes and is a major research hub for the aerospace industry, with the German Aerospace Center and the European Astronaut Centre headquarters. Lufthansa, Europe's largest airline, have their main corporate headquarters in Cologne. It also has a significant chemical and automobile industry. Cologne Bonn Airport is a regional hub, the main airport for the region being Düsseldorf Airport. The Cologne Trade Fair hosts a number of trade shows.\n",
      "\n",
      "\n",
      "\n",
      "Page: Cologne Cathedral\n",
      "Summary: Cologne Cathedral (German: Kölner Dom, pronounced [ˌkœlnɐ ˈdoːm] , officially Hohe Domkirche Sankt Petrus, English: Cathedral Church of Saint Peter) is a cathedral in Cologne, North Rhine-Westphalia belonging to the Catholic Church. It is the seat of the Archbishop of Cologne a\u001b[0m\n",
      "Thought:\u001b[32;1m\u001b[1;3mThought: I now know the final answer.  The Wikipedia article provides a comprehensive history of Cologne.\n",
      "Final Answer: Cologne, founded in the 1st century CE as the Roman Colonia Agrippina, served as the capital of the Roman province of Germania Inferior.  Throughout the Middle Ages, its location on major trade routes led to its flourishing as a free imperial city and a member of the Hanseatic League.  It experienced occupations by the French and British before and after World War I.  World War II heavily damaged the city, but post-war rebuilding restored many historical landmarks.  Today, Cologne is a major cultural and economic center, known for its cathedral, its Eau de Cologne, and its significant industries.\n",
      "\u001b[0m\n",
      "\n",
      "\u001b[1m> Finished chain.\u001b[0m\n"
     ]
    },
    {
     "data": {
      "text/plain": [
       "'Cologne, founded in the 1st century CE as the Roman Colonia Agrippina, served as the capital of the Roman province of Germania Inferior.  Throughout the Middle Ages, its location on major trade routes led to its flourishing as a free imperial city and a member of the Hanseatic League.  It experienced occupations by the French and British before and after World War I.  World War II heavily damaged the city, but post-war rebuilding restored many historical landmarks.  Today, Cologne is a major cultural and economic center, known for its cathedral, its Eau de Cologne, and its significant industries.'"
      ]
     },
     "execution_count": 22,
     "metadata": {},
     "output_type": "execute_result"
    }
   ],
   "source": [
    "agent.run(\"Give me history of Cologne city\")"
   ]
  },
  {
   "cell_type": "code",
   "execution_count": null,
   "id": "6d2019c2-4bcb-4f96-bb7e-58f72e50bc09",
   "metadata": {},
   "outputs": [],
   "source": []
  }
 ],
 "metadata": {
  "kernelspec": {
   "display_name": "Python 3 (ipykernel)",
   "language": "python",
   "name": "python3"
  },
  "language_info": {
   "codemirror_mode": {
    "name": "ipython",
    "version": 3
   },
   "file_extension": ".py",
   "mimetype": "text/x-python",
   "name": "python",
   "nbconvert_exporter": "python",
   "pygments_lexer": "ipython3",
   "version": "3.9.20"
  }
 },
 "nbformat": 4,
 "nbformat_minor": 5
}
